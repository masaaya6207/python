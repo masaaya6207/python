{
  "cells": [
    {
      "cell_type": "markdown",
      "id": "52b9c04c",
      "metadata": {
        "id": "52b9c04c"
      },
      "source": [
        "# 第15回 機械学習自動化技術（AutoML）に触れてみよう！"
      ]
    },
    {
      "cell_type": "markdown",
      "id": "0f3467e6",
      "metadata": {
        "id": "0f3467e6"
      },
      "source": [
        "___\n",
        "[![Open In Colab](https://colab.research.google.com/assets/colab-badge.svg)](https://colab.research.google.com/github/kimusaku/begin-python-2023/blob/main/workbook/lecture15.ipynb)\n",
        "\n",
        "___"
      ]
    },
    {
      "cell_type": "markdown",
      "id": "9ba5723c",
      "metadata": {
        "id": "9ba5723c"
      },
      "source": [
        "## この授業で学ぶこと"
      ]
    },
    {
      "cell_type": "markdown",
      "id": "49246d72",
      "metadata": {
        "id": "49246d72"
      },
      "source": [
        "最終回の今回は、14回で学んだ機械学習を自動化する技術であるAutoMLがどのようなものかを知るため、Fujitsu AutoMLの無料版を使って機械学習モデルの自動構築を体験してもらう。\n",
        "\n",
        "Fujitsu AutoMLの概要はこちらの[リンク](https://automl.jp.fujitsu.com/ja/)を参照のこと。"
      ]
    },
    {
      "cell_type": "markdown",
      "id": "e33b81b3",
      "metadata": {
        "id": "e33b81b3"
      },
      "source": [
        "## 利用手順\n",
        "\n",
        "まずはFujitsu AutoMLのライブラリをインストールする必要がある。 `pip install`でインストールすることが出来る。\n",
        "\n",
        "今回も、前回利用してきたダイヤモンドのデータを利用する。"
      ]
    },
    {
      "cell_type": "code",
      "execution_count": null,
      "id": "595fbdba",
      "metadata": {
        "id": "595fbdba"
      },
      "outputs": [],
      "source": [
        "pip install fujitsu-automl"
      ]
    },
    {
      "cell_type": "code",
      "execution_count": null,
      "id": "cf0bd2b1",
      "metadata": {
        "id": "cf0bd2b1"
      },
      "outputs": [],
      "source": [
        "import pandas as pd\n",
        "from sapientml import SapientML\n",
        "from sapientml.util.logging import setup_logger\n",
        "from sklearn.metrics import accuracy_score\n",
        "from sklearn.model_selection import train_test_split\n",
        "import seaborn as sns\n",
        "import os\n",
        "\n",
        "# ToyoNet-ACEで公開しているアカウント情報を貼り付ける。2024/07/17まで有効"
      ]
    },
    {
      "cell_type": "code",
      "execution_count": null,
      "id": "58a48caa",
      "metadata": {
        "id": "58a48caa"
      },
      "outputs": [],
      "source": [
        "train_data = sns.load_dataset('diamonds')\n",
        "train_data"
      ]
    },
    {
      "cell_type": "markdown",
      "id": "0h9-ai56mWxI",
      "metadata": {
        "id": "0h9-ai56mWxI"
      },
      "source": [
        "Fujitsu AutoMLでは、データセットと目的変数を指定することでその目的変数を予測するのに適している機械学習モデルの種類と前処理を自動で選択し、プログラムを組み立てて学習・推論を実行することができる。\n",
        "\n",
        "以下のコードセルでは、ダイヤモンドのデータの `cut` 列を予測するモデルを構築する。"
      ]
    },
    {
      "cell_type": "code",
      "execution_count": null,
      "id": "86e56999",
      "metadata": {
        "id": "86e56999"
      },
      "outputs": [],
      "source": [
        "train_data, test_data = train_test_split(train_data)\n",
        "\n",
        "y_true = test_data[\"cut\"].reset_index(drop=True)\n",
        "test_data.drop([\"cut\"], axis=1, inplace=True)\n",
        "\n",
        "cls = SapientML([\"cut\"], model_type=\"fujitsu-automl\")\n",
        "setup_logger().handlers.clear()\n",
        "cls.fit(train_data)"
      ]
    },
    {
      "cell_type": "markdown",
      "id": "ARV81lSJmr1d",
      "metadata": {
        "id": "ARV81lSJmr1d"
      },
      "source": [
        "構築したモデルで予測を行うには以下のコードセルを実行する。"
      ]
    },
    {
      "cell_type": "code",
      "execution_count": null,
      "id": "d8d294d9",
      "metadata": {
        "id": "d8d294d9"
      },
      "outputs": [],
      "source": [
        "y_pred = cls.predict(test_data)\n",
        "\n",
        "print(\"Accuracy:\", accuracy_score(y_true, y_pred))"
      ]
    },
    {
      "cell_type": "markdown",
      "id": "WJySUyy_m1Ey",
      "metadata": {
        "id": "WJySUyy_m1Ey"
      },
      "source": [
        "モデルの構築・予測のために生成されたプログラムは以下で確認することができる。"
      ]
    },
    {
      "cell_type": "code",
      "execution_count": null,
      "id": "n7qOusLam71F",
      "metadata": {
        "id": "n7qOusLam71F"
      },
      "outputs": [],
      "source": [
        "train_script = cls.model.files[\"final_train.py\"].decode(\"utf-8\")\n",
        "print(train_script)"
      ]
    },
    {
      "cell_type": "code",
      "execution_count": null,
      "id": "JZR2P4YRnKKw",
      "metadata": {
        "id": "JZR2P4YRnKKw"
      },
      "outputs": [],
      "source": [
        "predict_script = cls.model.files[\"final_predict.py\"].decode(\"utf-8\")\n",
        "print(predict_script)"
      ]
    },
    {
      "cell_type": "markdown",
      "id": "f33fcdfb",
      "metadata": {
        "id": "f33fcdfb"
      },
      "source": [
        "## おわりに\n",
        "\n",
        "プログラミング実習講義3,4では、Pythonによるプログラミングの基礎、基本的なアルゴリズムやデータ構造、また応用としてデータサイエンスおよび機械学習、AutoMLについて学んできた。過去に蓄積されてきたおびただしい量の便利なライブラリ・ツールに加えて近年では生成AIやノーコード・ローコード開発等の台頭により、人が必ずしも全てのコードを書かずとも高度なソフトウェアを開発することが出来ることになった。しかしながら、それらを正しく使いこなすにはプログラミングの素養がまだまだ重要である。経営学部の学生の皆様におかれても、この講義で学んだことをきっかけにプログラミングの素養を今後も引き続き磨いていってもらえることを願う。"
      ]
    },
    {
      "cell_type": "markdown",
      "id": "7cb00446",
      "metadata": {
        "id": "7cb00446"
      },
      "source": [
        "## 演習"
      ]
    },
    {
      "cell_type": "markdown",
      "id": "a08915dc",
      "metadata": {
        "id": "a08915dc"
      },
      "source": [
        "**課題**  \n",
        "Fujitsu AutoMLを用いて、インターネットで入手可能な適当なデータセット（CSVファイル）および適当な目的変数を設定して機械学習モデルを構築し、学習・予測のために生成されたプログラムを確認しなさい。\n",
        "\n",
        "以下のコードセルでは、URLで直接ダウンロード可能なデータセットを例として記載している。ここに新たなURLを指定するか、Google DriveにCSVファイルを置いて新しいデータを読み込んで試してみよう。Google Driveに置く方法で実施した場合は、レポートにCSVファイルも一緒に添付して提出してほしい。\n",
        "\n",
        "なお、データセット・目的変数の選び方によってはFujitsu AutoMLのバグに起因するエラーが発生する可能性がある。データセット・目的変数の選び方が妥当かつどうしてもエラーが解消しない場合は、エラーのまま提出してもらって構わない。バグの報告は開発者にとってはとてもありがたいものである。"
      ]
    },
    {
      "cell_type": "code",
      "execution_count": null,
      "id": "U9w75v20n4uR",
      "metadata": {
        "id": "U9w75v20n4uR"
      },
      "outputs": [],
      "source": [
        "train_data = pd.read_csv(\"https://github.com/sapientml/sapientml/files/12481088/titanic.csv\")\n",
        "train_data"
      ]
    },
    {
      "cell_type": "code",
      "execution_count": null,
      "id": "_DN7HeqxnxSn",
      "metadata": {
        "id": "_DN7HeqxnxSn"
      },
      "outputs": [],
      "source": [
        "train_data, test_data = train_test_split(train_data)\n",
        "\n",
        "y_true = test_data[\"survived\"].reset_index(drop=True)\n",
        "test_data.drop([\"survived\"], axis=1, inplace=True)\n",
        "\n",
        "cls = SapientML([\"survived\"], model_type=\"fujitsu-automl\")\n",
        "setup_logger().handlers.clear()\n",
        "cls.fit(train_data)"
      ]
    },
    {
      "cell_type": "code",
      "execution_count": null,
      "id": "dQZqia1cn1fD",
      "metadata": {
        "id": "dQZqia1cn1fD"
      },
      "outputs": [],
      "source": [
        "train_script = cls.model.files[\"final_train.py\"].decode(\"utf-8\")\n",
        "print(train_script)"
      ]
    },
    {
      "cell_type": "code",
      "execution_count": null,
      "id": "vO2ZDnZQn2Lb",
      "metadata": {
        "id": "vO2ZDnZQn2Lb"
      },
      "outputs": [],
      "source": [
        "predict_script = cls.model.files[\"final_predict.py\"].decode(\"utf-8\")\n",
        "print(predict_script)"
      ]
    }
  ],
  "metadata": {
    "colab": {
      "provenance": []
    },
    "kernelspec": {
      "display_name": "Python 3 (ipykernel)",
      "language": "python",
      "name": "python3"
    },
    "language_info": {
      "codemirror_mode": {
        "name": "ipython",
        "version": 3
      },
      "file_extension": ".py",
      "mimetype": "text/x-python",
      "name": "python",
      "nbconvert_exporter": "python",
      "pygments_lexer": "ipython3",
      "version": "3.11.5"
    },
    "vscode": {
      "interpreter": {
        "hash": "aee8b7b246df8f9039afb4144a1f6fd8d2ca17a180786b69acc140d282b71a49"
      }
    }
  },
  "nbformat": 4,
  "nbformat_minor": 5
}