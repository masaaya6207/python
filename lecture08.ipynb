{
  "cells": [
    {
      "cell_type": "markdown",
      "id": "52b9c04c",
      "metadata": {
        "id": "52b9c04c"
      },
      "source": [
        "# 第8回 アルゴリズム: 再帰"
      ]
    },
    {
      "cell_type": "markdown",
      "id": "0f3467e6",
      "metadata": {
        "id": "0f3467e6"
      },
      "source": [
        "___\n",
        "[![Open In Colab](https://colab.research.google.com/assets/colab-badge.svg)](https://colab.research.google.com/github/kimusaku/begin-python-2023/blob/main/workbook/lecture08.ipynb)\n",
        "\n",
        "___"
      ]
    },
    {
      "cell_type": "markdown",
      "id": "9ba5723c",
      "metadata": {
        "id": "9ba5723c"
      },
      "source": [
        "## この授業で学ぶこと"
      ]
    },
    {
      "cell_type": "markdown",
      "id": "448d9103",
      "metadata": {
        "id": "448d9103"
      },
      "source": [
        "アルゴリズムとは、ある問題についての解を求めるための計算手順のことである。\n",
        "\n",
        "これまでPythonに既に用意された関数を利用してきたが、今回はまず、新しく関数を定義する方法を学ぶ。\n",
        "また、アルゴリズムの一つとして、関数を反復的に呼び出すことで繰り返しを実現する手法である再帰について学ぶ。"
      ]
    },
    {
      "cell_type": "markdown",
      "id": "8f8a3666",
      "metadata": {
        "id": "8f8a3666"
      },
      "source": [
        "## 関数"
      ]
    },
    {
      "cell_type": "markdown",
      "id": "22e945c0",
      "metadata": {
        "id": "22e945c0"
      },
      "source": [
        "### 関数の定義"
      ]
    },
    {
      "cell_type": "markdown",
      "id": "0f983825",
      "metadata": {
        "id": "0f983825"
      },
      "source": [
        "第5回で作成したBMIの計算プログラムを例に、関数を作成してみよう。関数は**def文**により作成することができる。"
      ]
    },
    {
      "cell_type": "code",
      "execution_count": null,
      "id": "6adfc5dc",
      "metadata": {
        "id": "6adfc5dc"
      },
      "outputs": [],
      "source": []
    },
    {
      "cell_type": "code",
      "execution_count": null,
      "id": "b8b7edf9",
      "metadata": {
        "scrolled": true,
        "id": "b8b7edf9",
        "outputId": "696eea62-c9d2-45e5-df50-e2da13322a29"
      },
      "outputs": [
        {
          "data": {
            "text/plain": [
              "25.50404037692287"
            ]
          },
          "execution_count": 2,
          "metadata": {},
          "output_type": "execute_result"
        }
      ],
      "source": []
    },
    {
      "cell_type": "markdown",
      "id": "c30892c9",
      "metadata": {
        "id": "c30892c9"
      },
      "source": [
        "def文の書き方について解説する。上のコードを図で表すと次のようになる。"
      ]
    },
    {
      "cell_type": "markdown",
      "id": "11f5f272",
      "metadata": {
        "id": "11f5f272"
      },
      "source": [
        "```{figure} ./pic/def.png\n",
        "---\n",
        "width: 350px\n",
        "name: def\n",
        "---\n",
        "def文の書き方\n",
        "```"
      ]
    },
    {
      "cell_type": "markdown",
      "id": "8424f97b",
      "metadata": {
        "id": "8424f97b"
      },
      "source": [
        "`def` と書いたあとに空白を開けて関数名を書き、`()` の中に引数を表す変数名を書く。引数が複数ある場合は `,` で区切って並べる。\n",
        "def文の最後にコロン `:` を置いて、次の行からインデントを入れてブロックを作るのはif文やfor文と同じである。\n",
        "ブロックの中に関数が行う処理を書いていく。\n",
        "\n",
        "def文に特徴的なのは、基本的にブロックの最後に**return文**を書くことである。\n",
        "return文は `return 戻り値` という形式で記述する。\n",
        "処理がreturn文に到達すると、関数の処理はそこで終了となり、戻り値を返してブロックを抜ける。\n",
        "\n",
        "関数を使用する際には、基本的に引数の順番通りに値を渡す必要がある。\n",
        "例えば上の例で `bmi(193, 95)` と呼び出すと、引数に `a = 193`、`b = 95` が代入されてブロックの処理が行われる。\n",
        "したがって、`10000 * 95 / 193 ** 2` を計算した結果が戻り値として返される。\n",
        "\n",
        "ただし、引数を直接指定する**キーワード引数**という呼び出し方をする場合は、順番を気にしなくて良い。\n",
        "キーワード引数は、関数の使用時に次のように `引数名 = 値` という形式で書く。"
      ]
    },
    {
      "cell_type": "code",
      "execution_count": null,
      "id": "bb8b33ec",
      "metadata": {
        "id": "bb8b33ec"
      },
      "outputs": [],
      "source": []
    },
    {
      "cell_type": "markdown",
      "id": "e8c244f3",
      "metadata": {
        "id": "e8c244f3"
      },
      "source": [
        "また関数を使用する際には、基本的に引数に値を渡す必要がある。ただし、**デフォルト引数**という方法を利用すると、あらかじめ引数に値を設定しておくことができ、関数の呼び出し時にその引数を省略することが可能になる。デフォルト引数は、関数の定義時に次のように `引数名 = デフォルト値` という形式で記述する。"
      ]
    },
    {
      "cell_type": "code",
      "execution_count": null,
      "id": "411620a7",
      "metadata": {
        "id": "411620a7"
      },
      "outputs": [],
      "source": []
    },
    {
      "cell_type": "code",
      "execution_count": null,
      "id": "1cbc95ca",
      "metadata": {
        "id": "1cbc95ca"
      },
      "outputs": [],
      "source": []
    },
    {
      "cell_type": "code",
      "execution_count": null,
      "id": "4c3aab29",
      "metadata": {
        "id": "4c3aab29"
      },
      "outputs": [],
      "source": []
    },
    {
      "cell_type": "markdown",
      "id": "b3e2d978",
      "metadata": {
        "id": "b3e2d978"
      },
      "source": [
        "引数やreturn文のない関数もよく使われる。\n",
        "return文がない場合は、ブロックの最後まで実行してからブロックを抜ける。\n",
        "このとき戻り値がないことを表す `None` という値が返される。"
      ]
    },
    {
      "cell_type": "code",
      "execution_count": null,
      "id": "2a3ac006",
      "metadata": {
        "id": "2a3ac006"
      },
      "outputs": [],
      "source": []
    },
    {
      "cell_type": "code",
      "execution_count": null,
      "id": "039c0915",
      "metadata": {
        "id": "039c0915"
      },
      "outputs": [],
      "source": []
    },
    {
      "cell_type": "markdown",
      "id": "3419a745",
      "metadata": {
        "id": "3419a745"
      },
      "source": [
        "ノートブックによる表示機能では何も表示されないが、`print()` することで `None` が代入されていることを確認できる。"
      ]
    },
    {
      "cell_type": "code",
      "execution_count": null,
      "id": "76bc71f0",
      "metadata": {
        "id": "76bc71f0"
      },
      "outputs": [],
      "source": []
    },
    {
      "cell_type": "code",
      "execution_count": null,
      "id": "66f0f4ef",
      "metadata": {
        "id": "66f0f4ef"
      },
      "outputs": [],
      "source": []
    },
    {
      "cell_type": "markdown",
      "id": "9f24da6e",
      "metadata": {
        "id": "9f24da6e"
      },
      "source": [
        "### スコープ"
      ]
    },
    {
      "cell_type": "markdown",
      "id": "20cfa4a6",
      "metadata": {
        "id": "20cfa4a6"
      },
      "source": [
        "次のプログラムを結果を予想しながら実行してみよう。"
      ]
    },
    {
      "cell_type": "code",
      "execution_count": null,
      "id": "993382fa",
      "metadata": {
        "id": "993382fa"
      },
      "outputs": [],
      "source": [
        "a = 1\n",
        "def func():\n",
        "    a = 2\n",
        "    print(a)\n",
        "\n",
        "func()\n",
        "print(a)"
      ]
    },
    {
      "cell_type": "markdown",
      "id": "f4bd652e",
      "metadata": {
        "id": "f4bd652e"
      },
      "source": [
        "コード上でオブジェクトが有効になる範囲のことを**スコープ**という。\n",
        "スコープにはいくつか種類があるが、その中でも**モジュールスコープ**と**ローカルスコープ**が重要である。\n",
        "ノートブックを起動するとモジュールスコープが始まる。\n",
        "ノートブックのセル上で変数を定義すると、他のセルからも参照できるのは、これらが同じモジュールスコープに属するためである。\n",
        "ただし関数内だけは別で、関数内はローカルスコープという独自のスコープを持つ。\n",
        "モジュールスコープに属する変数を**グローバル変数**、ローカルスコープに属する変数を**ローカル変数**という。\n",
        "\n",
        "上の例では、1行目の変数 `a` はモジュールスコープに属するグローバル変数である。\n",
        "一方で3行目の変数 `a` はローカルスコープに属するローカル変数であり、1行目の変数とは別物とみなされる。\n",
        "したがって、`func()` 関数を実行してもグローバル変数の値は変更されず、最後の `print(a)` の出力は1となる。\n",
        "\n",
        "ローカルスコープからグローバル変数を参照することはできるが、モジュールスコープからローカル変数を直接参照することはできない。"
      ]
    },
    {
      "cell_type": "code",
      "execution_count": null,
      "id": "422c44e8",
      "metadata": {
        "id": "422c44e8"
      },
      "outputs": [],
      "source": [
        "# ローカルスコープからグローバル変数は参照できる\n",
        "b = 1\n",
        "def func():\n",
        "    print(b)\n",
        "\n",
        "func()"
      ]
    },
    {
      "cell_type": "code",
      "execution_count": null,
      "id": "200c706f",
      "metadata": {
        "id": "200c706f"
      },
      "outputs": [],
      "source": [
        "# モジュールスコープからローカル変数は参照できない\n",
        "def func():\n",
        "    c = 1\n",
        "\n",
        "func()\n",
        "print(c)"
      ]
    },
    {
      "cell_type": "markdown",
      "id": "72ac0591",
      "metadata": {
        "id": "72ac0591"
      },
      "source": [
        "モジュールスコープからローカル変数の値を利用するには、戻り値か引数を経由する必要がある。引数を経由する方法は、引数がミュータブルなオブジェクトのときのみ使えることに注意する。"
      ]
    },
    {
      "cell_type": "code",
      "execution_count": null,
      "id": "e6631758",
      "metadata": {
        "id": "e6631758"
      },
      "outputs": [],
      "source": [
        "# 戻り値を経由する例\n",
        "def func():\n",
        "    c = 1\n",
        "    return c\n",
        "\n",
        "c = func()\n",
        "print(c)"
      ]
    },
    {
      "cell_type": "code",
      "execution_count": null,
      "id": "732cb639",
      "metadata": {
        "id": "732cb639"
      },
      "outputs": [],
      "source": [
        "# 引数を経由する例\n",
        "\n",
        "## 引数がミュータブルなオブジェクトの場合\n",
        "def func(x):\n",
        "    c = 1\n",
        "    x[0] = c\n",
        "\n",
        "x = [0]\n",
        "func(x)\n",
        "print(x) # [1]になる\n",
        "\n",
        "## 引数がイミュータブルなオブジェクトの場合\n",
        "def func2(x):\n",
        "    c = 1\n",
        "    x = c\n",
        "\n",
        "x = 0\n",
        "func2(x)\n",
        "print(x)  # 0のまま"
      ]
    },
    {
      "cell_type": "markdown",
      "id": "5b018f14",
      "metadata": {
        "id": "5b018f14"
      },
      "source": [
        "スコープ周りを初めから完璧に理解するのは難しいので、エラーが起きたり、変数の値が想定からズレたりした場合に、適宜思い出して調べるのがよいだろう。"
      ]
    },
    {
      "cell_type": "markdown",
      "id": "f53b4360",
      "metadata": {
        "id": "f53b4360"
      },
      "source": [
        "## 再帰"
      ]
    },
    {
      "cell_type": "markdown",
      "metadata": {
        "id": "e3ecz0tD6dqD"
      },
      "source": [
        "第3回の課題1で用いたフィボナッチ数列の $n$ 番目の数を求める数式を覚えているだろうか。この数式を用いてフィボナッチ数列の $n$ 番目の数を返す関数を記述すると以下のようになる。"
      ],
      "id": "e3ecz0tD6dqD"
    },
    {
      "cell_type": "code",
      "execution_count": null,
      "metadata": {
        "id": "c0Koyvxq6dqD"
      },
      "outputs": [],
      "source": [
        "def fibonacci(n):\n",
        "    return round((((1 + 5 ** 0.5) / 2) ** n - ((1 - 5 ** 0.5) / 2) ** n) / 5 ** 0.5)\n",
        "\n",
        "fibonacci(30)"
      ],
      "id": "c0Koyvxq6dqD"
    },
    {
      "cell_type": "markdown",
      "metadata": {
        "id": "DerfbMzM6dqE"
      },
      "source": [
        "この `fibonacci(n)` の実現手段は他にもある。\n",
        "それは、 **最初の2つは1で、3つ目以降は「前の2つを足したもの」** を素直に表す方法である。\n",
        "まずはfor文による繰り返しを用いる方法で書いてみる。"
      ],
      "id": "DerfbMzM6dqE"
    },
    {
      "cell_type": "code",
      "execution_count": null,
      "metadata": {
        "id": "oequgnmv6dqE"
      },
      "outputs": [],
      "source": [
        "def fibonacci(n):\n",
        "    pass\n",
        "\n",
        "fibonacci(30)"
      ],
      "id": "oequgnmv6dqE"
    },
    {
      "cell_type": "markdown",
      "metadata": {
        "id": "UOKVhmJq6dqE"
      },
      "source": [
        "ところで、実は1つの代入文では実は複数の値を複数の変数にまとめて代入することが可能である。"
      ],
      "id": "UOKVhmJq6dqE"
    },
    {
      "cell_type": "code",
      "execution_count": null,
      "metadata": {
        "id": "ZvKPGVd06dqI"
      },
      "outputs": [],
      "source": [],
      "id": "ZvKPGVd06dqI"
    },
    {
      "cell_type": "markdown",
      "metadata": {
        "id": "LJ1LuwON6dqI"
      },
      "source": [
        "これを用いるともう少しすっきりした書き方ができる。"
      ],
      "id": "LJ1LuwON6dqI"
    },
    {
      "cell_type": "code",
      "execution_count": null,
      "metadata": {
        "id": "9tjwlaa06dqI"
      },
      "outputs": [],
      "source": [
        "def fibonacci(n):\n",
        "    pass\n",
        "\n",
        "fibonacci(30)"
      ],
      "id": "9tjwlaa06dqI"
    },
    {
      "cell_type": "markdown",
      "metadata": {
        "id": "7x9ODSTL6dqI"
      },
      "source": [
        "繰り返しで表す方法は、平方根やべき乗の出てくる公式で一発で求める方法よりも幾分か直感的である。しかし、繰り返しの各回で各々の変数の値を更新する（後ろにずらす）必要がある点が若干煩雑である。\n",
        "\n",
        "次に **再帰** による方法で書いてみる。"
      ],
      "id": "7x9ODSTL6dqI"
    },
    {
      "cell_type": "code",
      "execution_count": null,
      "metadata": {
        "id": "g-LGR9gu6dqI"
      },
      "outputs": [],
      "source": [
        "def fibonacci(n):\n",
        "    pass\n",
        "\n",
        "fibonacci(30)"
      ],
      "id": "g-LGR9gu6dqI"
    },
    {
      "cell_type": "markdown",
      "metadata": {
        "id": "c5u2yAai6dqI"
      },
      "source": [
        "**再帰** とは、ある関数の中で自分自身を再び呼び出すことである。この例では、 `fibonacci(n)` の中で `fibonacci(n - 1)` と `fibonacci(n - 2)` を呼び出している。 `fibonacci(n - 1)` を呼び出すとき、引数の `n` には `n - 1` の値が代入される。 `fibonacci(n - 2)` の場合も同様である。\n",
        "\n",
        "この例は **最初の2つは1で、3つ目以降は「前の2つを足したもの」** をかなり素直に表したものと考えることが出来る。if文で場合分けされているものを展開して疑似的なコードで書くと以下のようになる。\n",
        "\n",
        "```python\n",
        "fibonacci(1) = 1\n",
        "fibonacci(2) = 1\n",
        "fibonacci(n) = fibonacci(n - 1) + fibonacci(n - 2)\n",
        "```"
      ],
      "id": "c5u2yAai6dqI"
    },
    {
      "cell_type": "markdown",
      "metadata": {
        "id": "j_Z_Q09h6dqJ"
      },
      "source": [
        "## 演習"
      ],
      "id": "j_Z_Q09h6dqJ"
    },
    {
      "cell_type": "markdown",
      "metadata": {
        "id": "MD5v6cus6dqJ"
      },
      "source": [
        "**課題1**  \n",
        "再帰の例で出てきた関数 `fibonacci(n)` の難点は、1回の呼び出しで自分自身を複数回（2回）再帰呼び出ししているため呼び出し回数が指数関数的に増えることである。関数を再帰呼び出しする場合、呼び出し元の関数の引数はいったん特別な場所に自動的に退避されるようになっているが、無数の再帰呼び出しが発生した場合、いずれその退避場所が足りなくなって溢れてしまいエラーが発生してしまう。これを回避するために関数内の再帰呼び出しを極力抑えるための工夫を行う必要がある。\n",
        "\n",
        "以下のコードはその工夫を行った関数が含まれているが、2箇所の `None` の部分が空欄であり、不完全である。`None` の部分に入るべき式を埋めて関数を完成させよ。"
      ],
      "id": "MD5v6cus6dqJ"
    },
    {
      "cell_type": "code",
      "execution_count": null,
      "metadata": {
        "id": "eMUxWBxY6dqJ"
      },
      "outputs": [],
      "source": [
        "def fibonacci(n, a = 1, b = 1):\n",
        "\tif n > 2:\n",
        "\t\treturn fibonacci(n - 1, None, None)\n",
        "\treturn b\n",
        "\n",
        "fibonacci(30)"
      ],
      "id": "eMUxWBxY6dqJ"
    },
    {
      "cell_type": "markdown",
      "metadata": {
        "id": "ODpuzQN36dqJ"
      },
      "source": [
        "**課題2**  \n",
        "リストを引数にとり、リストの要素の順序を逆にしたリストを返す関数 `reverse(x)` を完成させよ。"
      ],
      "id": "ODpuzQN36dqJ"
    },
    {
      "cell_type": "code",
      "execution_count": null,
      "metadata": {
        "id": "SLEWj7at6dqJ"
      },
      "outputs": [],
      "source": [
        "l = [1, 2, 3, 4, 5]\n",
        "\n",
        "def reverse(x):\n",
        "    pass # この部分を実装する\n",
        "\n",
        "reverse(l) # [5, 4, 3, 2, 1]と出力される"
      ],
      "id": "SLEWj7at6dqJ"
    }
  ],
  "metadata": {
    "kernelspec": {
      "display_name": "Python 3 (ipykernel)",
      "language": "python",
      "name": "python3"
    },
    "language_info": {
      "codemirror_mode": {
        "name": "ipython",
        "version": 3
      },
      "file_extension": ".py",
      "mimetype": "text/x-python",
      "name": "python",
      "nbconvert_exporter": "python",
      "pygments_lexer": "ipython3",
      "version": "3.11.5"
    },
    "vscode": {
      "interpreter": {
        "hash": "aee8b7b246df8f9039afb4144a1f6fd8d2ca17a180786b69acc140d282b71a49"
      }
    },
    "colab": {
      "provenance": []
    }
  },
  "nbformat": 4,
  "nbformat_minor": 5
}