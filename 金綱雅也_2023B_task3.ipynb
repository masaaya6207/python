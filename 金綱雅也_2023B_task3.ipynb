{
  "cells": [
    {
      "cell_type": "markdown",
      "metadata": {
        "id": "view-in-github",
        "colab_type": "text"
      },
      "source": [
        "<a href=\"https://colab.research.google.com/github/masaaya6207/python/blob/main/%E9%87%91%E7%B6%B1%E9%9B%85%E4%B9%9F_2023B_task3.ipynb\" target=\"_parent\"><img src=\"https://colab.research.google.com/assets/colab-badge.svg\" alt=\"Open In Colab\"/></a>"
      ]
    },
    {
      "cell_type": "markdown",
      "metadata": {
        "id": "nN4MyaiX3LMS"
      },
      "source": [
        "# 数理・情報実習講義B　課題3\n",
        "\n",
        "以下の問に答えよ。<br>\n",
        "\n",
        "* 全てのプログラムが意図通りに動くことを確認すること。\n",
        "* 設問の意図は、ルーブリックを参照。\n",
        "* １つの問に対し１つプログラムができたら、より美しい解き方はないか、より短時間で実行できる方法はないか、より短いプログラムにできないか、考えるとより力がつきます。\n"
      ]
    },
    {
      "cell_type": "markdown",
      "source": [
        "**問B3.1** データファイル prec3.txt を用いて、2月の最低気温と最高気温を**散布図**で表示せよ。"
      ],
      "metadata": {
        "id": "oW7JXjgMoUR8"
      }
    },
    {
      "cell_type": "code",
      "source": [],
      "metadata": {
        "id": "lvoZS45aoWMJ"
      },
      "execution_count": null,
      "outputs": []
    },
    {
      "cell_type": "markdown",
      "source": [
        "**問B3.2** 問B3.1のグラフに、各日の平均気温（最低気温と最高気温の平均とする）も追加した散布図を作成せよ。"
      ],
      "metadata": {
        "id": "F9DIGy5boYNG"
      }
    },
    {
      "cell_type": "code",
      "source": [],
      "metadata": {
        "id": "4r5I-nqqoYwN"
      },
      "execution_count": null,
      "outputs": []
    },
    {
      "cell_type": "markdown",
      "source": [
        "**問B3.3** データファイル prec3.txt を読み込んで、日照時間のヒストグラムを表示せよ。"
      ],
      "metadata": {
        "id": "foTox8yeoZYz"
      }
    },
    {
      "cell_type": "code",
      "source": [],
      "metadata": {
        "id": "c_dquviNobKc"
      },
      "execution_count": null,
      "outputs": []
    },
    {
      "cell_type": "markdown",
      "source": [
        "**問B3.4** 気象庁の過去の気象データ（ https://www.data.jma.go.jp/obd/stats/etrn/index.php ） を用い、東京都・東京地点の2023年9月の最高気温を縦軸に、日付を横軸にとった **折れ線グラフ** を描画せよ。"
      ],
      "metadata": {
        "id": "w7gMowb1obeF"
      }
    },
    {
      "cell_type": "code",
      "source": [],
      "metadata": {
        "id": "3_nA4_0JodcD"
      },
      "execution_count": null,
      "outputs": []
    },
    {
      "cell_type": "markdown",
      "source": [
        "**問B3.5** 気象庁の過去の気象データ（ https://www.data.jma.go.jp/obd/stats/etrn/index.php ） を用い、問B3.4のグラフに、東京都・東京地点の1993年9月の最低気温も一緒にプロットせよ。"
      ],
      "metadata": {
        "id": "bSCfwJjqod4n"
      }
    },
    {
      "cell_type": "code",
      "source": [],
      "metadata": {
        "id": "5xVwfhZPogC6"
      },
      "execution_count": null,
      "outputs": []
    },
    {
      "cell_type": "markdown",
      "source": [
        "**問B3.6** 気象庁の過去の気象データ（ https://www.data.jma.go.jp/obd/stats/etrn/index.php ） を用い、問B3.5のグラフに、石狩地方・札幌地点の最高気温も一緒にプロットせよ。"
      ],
      "metadata": {
        "id": "d8X4huioogY8"
      }
    },
    {
      "cell_type": "code",
      "source": [],
      "metadata": {
        "id": "ZyolHftOoiwq"
      },
      "execution_count": null,
      "outputs": []
    },
    {
      "cell_type": "markdown",
      "source": [
        "**問B3.7** 気象庁の過去の気象データ（ https://www.data.jma.go.jp/obd/stats/etrn/index.php ） を用い、山形県・新庄地点の 2021年1月の最深積雪を **棒グラフ** でプロットせよ。"
      ],
      "metadata": {
        "id": "oR90GLmnokwM"
      }
    },
    {
      "cell_type": "code",
      "source": [],
      "metadata": {
        "id": "FkcaFhFlolQ1"
      },
      "execution_count": null,
      "outputs": []
    },
    {
      "cell_type": "markdown",
      "source": [
        "**問B3.8** 関数 y=x^2 （xの2乗のことです）のグラフを描画せよ。ただし、xのリストは-5以上5以下を等間隔に101個に区切ったものとせよ。"
      ],
      "metadata": {
        "id": "7-mauhdOonQY"
      }
    },
    {
      "cell_type": "code",
      "source": [],
      "metadata": {
        "id": "42Qqy7EKonnC"
      },
      "execution_count": null,
      "outputs": []
    },
    {
      "cell_type": "markdown",
      "source": [
        "**問3.9** 関数 y=log(x)　（xの自然対数のことです） のグラフを描画せよ。ただし、xのリストは-5以上5以下を等間隔に101個に区切ったものとせよ。"
      ],
      "metadata": {
        "id": "IknHvO352mWy"
      }
    },
    {
      "cell_type": "code",
      "source": [],
      "metadata": {
        "id": "1TpbC21Y3Rg8"
      },
      "execution_count": null,
      "outputs": []
    },
    {
      "cell_type": "markdown",
      "source": [
        "**問3.10** 関数 y=sqrt(x)　（xのルートのことです） のグラフを描画せよ。ただし、xのリストは-5以上5以下を等間隔に101個に区切ったものとせよ。"
      ],
      "metadata": {
        "id": "eaVVU8P43R83"
      }
    },
    {
      "cell_type": "code",
      "source": [],
      "metadata": {
        "id": "qdjoDvZz3Z-7"
      },
      "execution_count": null,
      "outputs": []
    },
    {
      "cell_type": "markdown",
      "source": [
        "**問B3.11** 2023年5月1日時点での東洋大学の学生数をウェブサイト（https://www.toyo.ac.jp/toyo2023/basic_data/ ）から読み込み、学部（第1部）の学部ごとの合計学生数を適切なグラフに描画せよ（横軸を学部、縦軸を学部の合計学生数とする）。"
      ],
      "metadata": {
        "id": "8-wBOiQfon3b"
      }
    },
    {
      "cell_type": "code",
      "source": [],
      "metadata": {
        "id": "lVYSg2LuopKv"
      },
      "execution_count": null,
      "outputs": []
    },
    {
      "cell_type": "markdown",
      "source": [
        "**問B3.12** 問B3.11のデータを用い、学部（第1部）の学部ごとの男性学生の割合を計算せよ。"
      ],
      "metadata": {
        "id": "UHdv9QqMopXy"
      }
    },
    {
      "cell_type": "code",
      "source": [],
      "metadata": {
        "id": "TSpX3wEooqzY"
      },
      "execution_count": null,
      "outputs": []
    },
    {
      "cell_type": "markdown",
      "source": [
        "**問B3.13** 問B3.11のデータを用い、男子学生の割合が一番高い学部名をプリントするプログラムを書け。"
      ],
      "metadata": {
        "id": "UKj_LJdvorGF"
      }
    },
    {
      "cell_type": "code",
      "source": [],
      "metadata": {
        "id": "nXbfhG7bovZg"
      },
      "execution_count": null,
      "outputs": []
    },
    {
      "cell_type": "markdown",
      "source": [
        "**問B3.14** 問B3.11のデータを用い、法学部の教授・准教授・講師・助教の人数を円グラフに描画せよ。"
      ],
      "metadata": {
        "id": "FTnqBfCfo8BZ"
      }
    },
    {
      "cell_type": "code",
      "source": [],
      "metadata": {
        "id": "MVbwDZGxo-tJ"
      },
      "execution_count": null,
      "outputs": []
    },
    {
      "cell_type": "markdown",
      "source": [
        "**問B3.15** 東洋大学の基礎データをウェブサイトから取得し、2018年〜2023年の、国際地域学部の合計学生数と、国際観光学部の合計学生数の時間変化を１つのグラフに描画せよ。異なる年度のデータは、問B3.11で示した url の「2023」のところをそれぞれの年度に変更すると、得ることができる。"
      ],
      "metadata": {
        "id": "xmKqrdIZo-U6"
      }
    },
    {
      "cell_type": "code",
      "source": [],
      "metadata": {
        "id": "b60C9dBUpAwh"
      },
      "execution_count": null,
      "outputs": []
    }
  ],
  "metadata": {
    "colab": {
      "provenance": [],
      "include_colab_link": true
    },
    "kernelspec": {
      "display_name": "Python 3",
      "name": "python3"
    },
    "language_info": {
      "name": "python"
    }
  },
  "nbformat": 4,
  "nbformat_minor": 0
}