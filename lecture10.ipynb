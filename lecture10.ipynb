{
  "cells": [
    {
      "cell_type": "markdown",
      "id": "52b9c04c",
      "metadata": {
        "id": "52b9c04c"
      },
      "source": [
        "# 第10回 アルゴリズム: 探索"
      ]
    },
    {
      "cell_type": "markdown",
      "id": "0f3467e6",
      "metadata": {
        "id": "0f3467e6"
      },
      "source": [
        "___\n",
        "[![Open In Colab](https://colab.research.google.com/assets/colab-badge.svg)](https://colab.research.google.com/github/kimusaku/begin-python-2023/blob/main/workbook/lecture10.ipynb)\n",
        "\n",
        "___"
      ]
    },
    {
      "cell_type": "markdown",
      "id": "9ba5723c",
      "metadata": {
        "id": "9ba5723c"
      },
      "source": [
        "## この授業で学ぶこと"
      ]
    },
    {
      "cell_type": "markdown",
      "id": "49246d72",
      "metadata": {
        "id": "49246d72"
      },
      "source": [
        "今回の授業では、探索アルゴリズムについて学ぶ。またファイルの読み書きの方法についても学ぶ。"
      ]
    },
    {
      "cell_type": "markdown",
      "id": "5043fc4e",
      "metadata": {
        "id": "5043fc4e"
      },
      "source": [
        "## 探索とは"
      ]
    },
    {
      "cell_type": "markdown",
      "id": "800f0081",
      "metadata": {
        "id": "800f0081"
      },
      "source": [
        "複数のデータの中から、特定の条件に適合するデータを見つけることを**探索**という。\n",
        "このテキストでは、次の問題設定に限定して考える： 数値のリストと数値のキーが与えられるとき、リストの中にキーと一致する要素が存在するかを判定し、存在するときはそのインデックスを1つ求める。\n",
        "\n",
        "このアルゴリズムを関数として実装しよう。\n",
        "リストとキーを引数として受け取り、リストの中にキーが存在すればそのインデックスを返し、存在しなければ `None` を返す関数を作成する。\n",
        "\n",
        "例えば、次のリストとキーのペアに対しては、インデックスの3を返す。\n",
        "\n",
        "<pre>\n",
        "data = [5, 1, 3, 7, 2]\n",
        "key = 7\n",
        "</pre>\n",
        "\n",
        "次のリストとキーのペアに対しては、`None` を返す。\n",
        "<pre>\n",
        "data = [5, 1, 3, 7, 2]\n",
        "key = 4\n",
        "</pre>\n",
        "\n",
        "探索は使用頻度の高い基本的な操作なので、数多くのアルゴリズムが考案されている。\n",
        "今回はその中から代表的な**線形探索**と**二分探索**を紹介する。\n",
        "\n",
        "なお、探索プログラムはリストの `index()` メソッドを使えば、次のように実装することができる。\n",
        "ここではアルゴリズムの学習のため、`index()` メソッドには頼らずに1からプログラムを作成することを考える。"
      ]
    },
    {
      "cell_type": "code",
      "execution_count": null,
      "id": "8e3a7555",
      "metadata": {
        "id": "8e3a7555"
      },
      "outputs": [],
      "source": [
        "def search(data, key):\n",
        "    if key in data:\n",
        "        return data.index(key)\n",
        "    else:\n",
        "        return None"
      ]
    },
    {
      "cell_type": "code",
      "execution_count": null,
      "id": "56baa42a",
      "metadata": {
        "id": "56baa42a"
      },
      "outputs": [],
      "source": [
        "data = [5, 1, 3, 7, 2]\n",
        "key = 7\n",
        "print(search(data, key))\n",
        "\n",
        "data = [5, 1, 3, 7, 2]\n",
        "key = 4\n",
        "print(search(data, key))"
      ]
    },
    {
      "cell_type": "markdown",
      "id": "d213ce3e",
      "metadata": {
        "id": "d213ce3e"
      },
      "source": [
        "## 線形探索"
      ]
    },
    {
      "cell_type": "markdown",
      "id": "21d838db",
      "metadata": {
        "id": "21d838db"
      },
      "source": [
        "線形探索は、前から順に探すという単純なアルゴリズムである。\n",
        "実装としては、for文により前から要素を1つずつ調べていき、キーに一致する要素を見つけたところでそのインデックスをreturn文で返す。\n",
        "最後までキーに一致する要素が見つからなかった場合は、`None` をreturn文で返す。\n",
        "\n",
        "以下に、未完成の `linear_search()` 関数を用意した。練習として、プログラムを完成させてみてほしい。"
      ]
    },
    {
      "cell_type": "code",
      "execution_count": null,
      "id": "e16de7c4",
      "metadata": {
        "id": "e16de7c4"
      },
      "outputs": [],
      "source": [
        "def linear_search(data, key):\n",
        "    for i in range(len(data)):\n",
        "        pass   # ここを書き換える\n",
        "    return None\n"
      ]
    },
    {
      "cell_type": "code",
      "execution_count": null,
      "id": "5743d54c",
      "metadata": {
        "id": "5743d54c"
      },
      "outputs": [],
      "source": [
        "data = [5, 1, 3, 7, 2]\n",
        "key = 7\n",
        "print(linear_search(data, key)) # 3\n",
        "\n",
        "data = [5, 1, 3, 7, 2]\n",
        "key = 4\n",
        "print(linear_search(data, key)) # None"
      ]
    },
    {
      "cell_type": "markdown",
      "id": "535fc5b5",
      "metadata": {
        "id": "535fc5b5"
      },
      "source": [
        "## 二分探索"
      ]
    },
    {
      "cell_type": "markdown",
      "id": "6cfa02d1",
      "metadata": {
        "id": "6cfa02d1"
      },
      "source": [
        "二分探索は、リストがソートされているという前提のもとで、より効率的な探索を実現するアルゴリズムである。\n",
        "\n",
        "リストがソートされているとき、要素とキーの大小関係を調べることにより、キーがあるとしたら要素より右か左かが判明する。\n",
        "二分探索ではこの性質を利用し、さらに大小関係を調べる要素を探索範囲の中央から選ぶことで、なるべく少ないステップで探索範囲を絞り込んでいく。\n",
        "\n",
        "例としてキーが7のとき、二分探索が探索範囲を絞り込んでいく様子を次の図に示す。"
      ]
    },
    {
      "cell_type": "markdown",
      "id": "dd24b51b",
      "metadata": {
        "id": "dd24b51b"
      },
      "source": [
        "```{figure} ./pic/binary_search.png\n",
        "---\n",
        "width: 700px\n",
        "name: binary_search\n",
        "---\n",
        "キーが7のときの二分探索の様子\n",
        "```"
      ]
    },
    {
      "cell_type": "markdown",
      "id": "8f1428ea",
      "metadata": {
        "id": "8f1428ea"
      },
      "source": [
        "両端の灰矢印が、探索範囲を表している。これらの中央の青矢印が、大小関係を調べる要素である。\n",
        "1行目の比較では、青矢印の13よりキーの7の方が小さいので、キーがあるとしたらこれより左側にあると判断できる。\n",
        "したがって、右の灰矢印を青矢印の1つ左に移動させて、次の行に移る。\n",
        "\n",
        "2行目も同様にして、青矢印の5とキーの7を比較する。今度はキーの方が大きいので、左の灰矢印を青矢印の1つ右に移動させる。3行目までくると、探索範囲は2つ（7と11）に絞り込めている。このように探索範囲のサイズが偶数のときは、ちょうど中央の位置に要素はないので、中央の左隣か右隣の要素を比較対象に選ぶ（ここでは左隣を選択している）。このとき青矢印の要素はキーと一致するので、青矢印のインデックスを返して探索を終了する。\n",
        "\n",
        "キーに一致する要素がない場合は、上記操作をくり返すと、いずれ灰矢印の位置が逆転する。このとき `None` を返して探索を終了する。\n",
        "\n",
        "以下に、未完成の `binary_search()` 関数を用意した。\n",
        "左の灰矢印に相当するのが `left`、右の灰矢印に相当するのが `right`、真ん中の青矢印に相当するのが `mid` である。\n",
        "上の説明を参考に、プログラムを完成させてみてほしい。"
      ]
    },
    {
      "cell_type": "code",
      "execution_count": null,
      "id": "08176bcd",
      "metadata": {
        "id": "08176bcd"
      },
      "outputs": [],
      "source": [
        "def binary_search(data, key):\n",
        "    left = 0\n",
        "    right = len(data) - 1\n",
        "    while left <= right:\n",
        "        mid = (left + right) // 2\n",
        "        if data[mid] == key:\n",
        "            pass # ここを書き換える\n",
        "        elif data[mid] > key:\n",
        "            pass # ここを書き換える\n",
        "        else:\n",
        "            pass # ここを書き換える\n",
        "    return None"
      ]
    },
    {
      "cell_type": "code",
      "execution_count": null,
      "id": "5bc38b7c",
      "metadata": {
        "scrolled": true,
        "id": "5bc38b7c"
      },
      "outputs": [],
      "source": [
        "data = [1, 3, 5, 7, 9]\n",
        "key = 7\n",
        "print(binary_search(data, key)) # 3\n",
        "\n",
        "data = [1, 3, 5, 7, 9]\n",
        "key = 4\n",
        "print(binary_search(data, key)) # None"
      ]
    },
    {
      "cell_type": "markdown",
      "id": "66bb931d",
      "metadata": {
        "id": "66bb931d"
      },
      "source": [
        "ここまでに紹介した3つの探索方法について、実際に計算時間を比較してみよう。\n",
        "ここでは自明な例ではあるが、$0$ から $N-1$ まで整数が順に並んだリスト `data` を `list(range(N))` により作成し、それに対して探索を実行している。"
      ]
    },
    {
      "cell_type": "code",
      "execution_count": null,
      "id": "f2efe971",
      "metadata": {
        "id": "f2efe971"
      },
      "outputs": [],
      "source": [
        "import time\n",
        "\n",
        "def exec_time(func, data, key):\n",
        "    start = time.time()\n",
        "    func(data, key)\n",
        "    end = time.time()\n",
        "    return end - start"
      ]
    },
    {
      "cell_type": "code",
      "execution_count": null,
      "id": "d66ef57c",
      "metadata": {
        "id": "d66ef57c"
      },
      "outputs": [],
      "source": [
        "N = 10**7\n",
        "data = list(range(N))\n",
        "key = N // 3  # 適当な要素\n",
        "\n",
        "print(exec_time(search, data, key))\n",
        "print(exec_time(linear_search, data, key))\n",
        "print(exec_time(binary_search, data, key))"
      ]
    },
    {
      "cell_type": "markdown",
      "id": "7272de2b",
      "metadata": {
        "id": "7272de2b"
      },
      "source": [
        "## ファイルの入出力"
      ]
    },
    {
      "cell_type": "markdown",
      "id": "e09a2b23",
      "metadata": {
        "id": "e09a2b23"
      },
      "source": [
        "探索アルゴリズムから話題を変えて、この節ではファイルの入出力について学ぶ。\n",
        "これまではPythonプログラムの中で閉じた話がほとんどであったが、ファイルの入出力を学ぶことで、パソコン上のファイルに対して自由な処理を行えるようになったり、プログラムの実行結果を永続的に保存できるようになったりするなど出来ることの幅がぐんと広がる。"
      ]
    },
    {
      "cell_type": "markdown",
      "id": "68cd9671",
      "metadata": {
        "id": "68cd9671"
      },
      "source": [
        "### Googleドライブのマウント"
      ]
    },
    {
      "cell_type": "markdown",
      "id": "712cd164",
      "metadata": {
        "id": "712cd164"
      },
      "source": [
        "Google Colab上でファイルを扱うために、最初にGoogleドライブに接続する必要がある（**マウント**という）。\n",
        "ここではマウントの手順を説明する。\n",
        "\n",
        "サイドメニューから以下の順番でアイコンをクリックする。"
      ]
    },
    {
      "cell_type": "markdown",
      "id": "cfd69ffc",
      "metadata": {
        "id": "cfd69ffc"
      },
      "source": [
        "```{figure} ./pic/drive1.png\n",
        "---\n",
        "width: 500px\n",
        "name: drive1\n",
        "---\n",
        "Googleドライブのマウント\n",
        "```"
      ]
    },
    {
      "cell_type": "markdown",
      "id": "0b37b818",
      "metadata": {
        "id": "0b37b818"
      },
      "source": [
        "そうすると以下のようなコードがノートブック上に現れるので、これを実行する。\n",
        "実行するとアカウントのログイン画面が表示され、その後Googleドライブのマウントを許可するか聞かれるので、許可するを選択する。"
      ]
    },
    {
      "cell_type": "markdown",
      "id": "1b2afb8b",
      "metadata": {
        "id": "1b2afb8b"
      },
      "source": [
        "```{figure} ./pic/drive2.png\n",
        "---\n",
        "width: 500px\n",
        "name: drive2\n",
        "---\n",
        "Googleドライブのマウント\n",
        "```"
      ]
    },
    {
      "cell_type": "markdown",
      "id": "72de3b3d",
      "metadata": {
        "id": "72de3b3d"
      },
      "source": [
        "マウントしたあと左のウィンドウ上で `/content/drive/MyDrive` を見に行くと、Googleドライブ上のファイル・フォルダが確認できるはずである。"
      ]
    },
    {
      "cell_type": "markdown",
      "id": "f80fa5ad",
      "metadata": {
        "id": "f80fa5ad"
      },
      "source": [
        "```{figure} ./pic/drive3.png\n",
        "---\n",
        "width: 500px\n",
        "name: drive3\n",
        "---\n",
        "Googleドライブのマウント\n",
        "```"
      ]
    },
    {
      "cell_type": "markdown",
      "id": "8033b42b",
      "metadata": {
        "id": "8033b42b"
      },
      "source": [
        "### ファイルの読み込み"
      ]
    },
    {
      "cell_type": "markdown",
      "id": "3f393249",
      "metadata": {
        "id": "3f393249"
      },
      "source": [
        "練習用のファイルとして次のデータが書かれたsample.txtを用意し（ToyoNet-ACEでも配布する予定）、Googleドライブのマイドライブ直下に置く。それ以外の場所に置いた場合は以降のコードの `path` を適宜変更する。\n",
        "\n",
        "<pre>8 7 9 6 9\n",
        "4 5 8 7 6\n",
        "9 9 9 8 9\n",
        "6 7 9 7 8</pre>\n",
        "\n",
        "このファイルの中身は組み込み関数の `open()` を使って、次のように読み込むことができる。"
      ]
    },
    {
      "cell_type": "code",
      "execution_count": null,
      "id": "edd2b263",
      "metadata": {
        "id": "edd2b263"
      },
      "outputs": [],
      "source": [
        "path = \"/content/drive/MyDrive/sample.txt\"\n"
      ]
    },
    {
      "cell_type": "markdown",
      "id": "6dbcc139",
      "metadata": {
        "id": "6dbcc139"
      },
      "source": [
        "`open()` 関数は、第一引数にファイルの存在する場所（**パス**という）、第二引数にモードを渡す。\n",
        "パスは文字列で表し、フォルダを1つ下るごとに `/` で区切って `content` フォルダからの位置関係を表現する。\n",
        "第二引数に渡している `'r'` は読み込みモードを表す。\n",
        "\n",
        "`open()` 関数の返すファイルオブジェクト `f` に対して、`read()` メソッドを呼び出すと、ファイルの中身を文字列として取得できる。\n",
        "最後に、開いたファイルオブジェクトを `f.close()` により閉じている。\n",
        "\n",
        "`read()` メソッドはファイル全体を文字列として読み込むが、for文により一行ずつ読み込むこともできる。"
      ]
    },
    {
      "cell_type": "code",
      "execution_count": null,
      "id": "8e150864",
      "metadata": {
        "id": "8e150864"
      },
      "outputs": [],
      "source": []
    },
    {
      "cell_type": "markdown",
      "id": "8e720520",
      "metadata": {
        "id": "8e720520"
      },
      "source": [
        "さて `sample.txt` の中身は各行が一人一人の学生、各列が何かしらのスコアを表していたとしよう（つまり学生4人・スコア5つ）。このときデータを2次元リストとして読み込めると、分析の際に便利である。次のコードにより、ファイルの中身を2次元リストとして読み込むことができる。"
      ]
    },
    {
      "cell_type": "code",
      "execution_count": null,
      "id": "7f65d035",
      "metadata": {
        "id": "7f65d035"
      },
      "outputs": [],
      "source": [
        "f = open(path, mode='r')\n",
        "\n",
        "data = []\n",
        "for line in f:\n",
        "    data.append(line.strip().split(' '))\n",
        "print(data)\n",
        "\n",
        "f.close()"
      ]
    },
    {
      "cell_type": "markdown",
      "id": "df553300",
      "metadata": {
        "id": "df553300"
      },
      "source": [
        "ここで各行の文字列 `line` について、まず `strip()` メソッドにより改行文字 `\\n` を取り除き、次に `split(' ')` メソッドにより空白文字で区切ってリストに変換している。例として、`line` にファイルの1行目 `\"8 7 9 6 9\\n\"` が代入されたときの処理の流れを、以下に示す。"
      ]
    },
    {
      "cell_type": "markdown",
      "id": "24e3d6ee",
      "metadata": {
        "id": "24e3d6ee"
      },
      "source": [
        "<pre>\n",
        "line.strip().split(' ')\n",
        "</pre>\n",
        "↓ `line` の指す値に置き換え\n",
        "<pre>\n",
        "\"8 7 9 6 9\\n\".strip().split(' ')\n",
        "</pre>\n",
        "↓ `strip()` メソッドの適用\n",
        "<pre>\n",
        "\"8 7 9 6 9\".split(' ')\n",
        "</pre>\n",
        "↓ `split()` メソッドの適用\n",
        "<pre>\n",
        "['8', '7', '9', '6', '9']\n",
        "</pre>\n",
        "\n",
        "よって、`data.append(line.strip().split(' '))` は `data.append(['8', '7', '9', '6', '9'])` と同じことであり、これにより2次元リスト `data` の末尾に1次元リスト `['8', '7', '9', '6', '9']` が追加される。"
      ]
    },
    {
      "cell_type": "markdown",
      "id": "22151adc",
      "metadata": {
        "id": "22151adc"
      },
      "source": [
        "注意点として、この時点では `data` の各要素は文字列型となっている。そこで分析前に整数型または浮動小数点数型に変換しておく。"
      ]
    },
    {
      "cell_type": "code",
      "execution_count": null,
      "id": "921bbe91",
      "metadata": {
        "id": "921bbe91"
      },
      "outputs": [],
      "source": [
        "for i in range(len(data)):\n",
        "    for j in range(len(data[i])):\n",
        "        data[i][j] = int(data[i][j])  # 小数を含むならfloat()"
      ]
    },
    {
      "cell_type": "code",
      "execution_count": null,
      "id": "73c38c23",
      "metadata": {
        "id": "73c38c23"
      },
      "outputs": [],
      "source": [
        "data"
      ]
    },
    {
      "cell_type": "markdown",
      "id": "45ccb3dc",
      "metadata": {
        "id": "45ccb3dc"
      },
      "source": [
        "### ファイルの書き込み"
      ]
    },
    {
      "cell_type": "markdown",
      "id": "467b1b4d",
      "metadata": {
        "id": "467b1b4d"
      },
      "source": [
        "読み込んだデータをもとに各生徒の平均スコアを求めて、ファイルに出力してみよう。\n",
        "\n",
        "まず出力用のパスを入力とは別に設定する。\n",
        "`open()` 関数を書き込みモード（`'w'`） で呼び出し、書き込み用のファイルオブジェクト `f` を取得する。\n",
        "平均値の計算は、ここでは簡単に総和を求める `sum()` 関数と `len()` 関数を使用して行っている。\n",
        "そして結果を `f.write()` によりファイルに書き込んでいる。\n",
        "入力と同じように1行1学生となるように、最後に改行 `\\n` を入れている。\n",
        "\n",
        "ファイルへの書き込みを終えたら、`f.flush()`、`f.close()` を順に呼び出してファイルを閉じる。\n",
        "実は `f.write()` を呼び出した時点では、ファイルへの書き込みを予約した状態に過ぎず、OSの状態によっては実際の書き込みは後回しにされてしまう。\n",
        "`f.flush()` は、ファイルへの書き込みを確実に完了させる働きを持つ。"
      ]
    },
    {
      "cell_type": "code",
      "execution_count": null,
      "id": "d565c626",
      "metadata": {
        "id": "d565c626"
      },
      "outputs": [],
      "source": [
        "output_path = \"/content/drive/MyDrive/sample_mean.txt\"\n"
      ]
    },
    {
      "cell_type": "markdown",
      "id": "7b6bf891",
      "metadata": {
        "id": "7b6bf891"
      },
      "source": [
        "ここで紹介した書き込み方法では、毎回ファイルの内容が上書きされる。\n",
        "そうではなく、ファイルの末尾に追記したい場合には追記モード（`'a'`） を指定する。\n",
        "ファイルオブジェクトの使い方は書き込みモード（`'w'`）の場合と全く同じである。"
      ]
    },
    {
      "cell_type": "markdown",
      "id": "c9bb5931",
      "metadata": {
        "id": "c9bb5931"
      },
      "source": [
        "## 演習"
      ]
    },
    {
      "cell_type": "markdown",
      "id": "32b72995",
      "metadata": {
        "id": "32b72995"
      },
      "source": [
        "**課題**  \n",
        "上の節では、各学生の平均スコアを求めてファイルに出力した。これを参考に、平均スコアの代わりにスコアの標準偏差を求めてファイルに出力し、作成したファイルをレポートに添付しなさい。ファイル名は `sample_std.txt` とすること。これは必須ではないが、可能なら小数は第3位を四捨五入して第2位までを求めなさい（[参考](label:round)）。\n",
        "\n",
        "ヒント1:  第6回で紹介したNumPyを利用すると、標準偏差は簡単に求められる。`import numpy as np` によりNumPyを読み込んだあと、`np.std()` 関数を使って、`np.std(lst)` によりリスト `lst` の標準偏差を求めることができる。   \n",
        "ヒント2:  学生は4人いるので、標準偏差も4つ求まることになる。`sample_std.txt` は次のような見た目になる。ヒントとして1行目のみ答えを示す。つまり、`data` の1行目 `[8, 7, 9, 6, 9]` の標準偏差を求めて小数第3位を四捨五入すると `1.17` になる（四捨五入せずに1.16619...という解答でも正解とする）。"
      ]
    },
    {
      "cell_type": "markdown",
      "id": "bf88cf5f",
      "metadata": {
        "id": "bf88cf5f"
      },
      "source": [
        "<pre>1.17\n",
        "*\n",
        "*\n",
        "*</pre>"
      ]
    },
    {
      "cell_type": "code",
      "execution_count": null,
      "id": "103a8d13",
      "metadata": {
        "id": "103a8d13"
      },
      "outputs": [],
      "source": [
        "import numpy as np # NumPyの読み込み\n",
        "\n",
        "output_path = \"/content/drive/MyDrive/sample_std.txt\"\n",
        "f = open(output_path, mode='w')\n",
        "\n",
        "for lst in data:\n",
        "    pass # ここに適切なコードを書く\n",
        "\n",
        "f.flush()\n",
        "f.close()"
      ]
    }
  ],
  "metadata": {
    "kernelspec": {
      "display_name": "Python 3 (ipykernel)",
      "language": "python",
      "name": "python3"
    },
    "language_info": {
      "codemirror_mode": {
        "name": "ipython",
        "version": 3
      },
      "file_extension": ".py",
      "mimetype": "text/x-python",
      "name": "python",
      "nbconvert_exporter": "python",
      "pygments_lexer": "ipython3",
      "version": "3.9.5"
    },
    "vscode": {
      "interpreter": {
        "hash": "aee8b7b246df8f9039afb4144a1f6fd8d2ca17a180786b69acc140d282b71a49"
      }
    },
    "colab": {
      "provenance": []
    }
  },
  "nbformat": 4,
  "nbformat_minor": 5
}